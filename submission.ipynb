{
  "cells": [
    {
      "metadata": {
        "trusted": true
      },
      "cell_type": "code",
      "source": "#Import Existing Libraries\nimport numpy as np\nimport pandas as pd\nimport matplotlib.pyplot as plt\nimport seaborn as sns\nfrom mpl_toolkits.mplot3d import Axes3D\nimport folium\nfrom folium.plugins import HeatMap\n%matplotlib inline\nimport warnings\nwarnings.filterwarnings(\"ignore\")",
      "execution_count": 33,
      "outputs": []
    },
    {
      "metadata": {},
      "cell_type": "markdown",
      "source": "<h4>Load the Datasets"
    },
    {
      "metadata": {
        "trusted": true
      },
      "cell_type": "code",
      "source": "df1 = pd.read_csv('train.csv')\ndf2 = pd.read_csv('test.csv')\ndf1.head()",
      "execution_count": 34,
      "outputs": [
        {
          "output_type": "execute_result",
          "execution_count": 34,
          "data": {
            "text/html": "<div>\n<style scoped>\n    .dataframe tbody tr th:only-of-type {\n        vertical-align: middle;\n    }\n\n    .dataframe tbody tr th {\n        vertical-align: top;\n    }\n\n    .dataframe thead th {\n        text-align: right;\n    }\n</style>\n<table border=\"1\" class=\"dataframe\">\n  <thead>\n    <tr style=\"text-align: right;\">\n      <th></th>\n      <th>Key</th>\n      <th>Male</th>\n      <th>Age</th>\n      <th>Debt</th>\n      <th>Married</th>\n      <th>BankCustomer</th>\n      <th>EducationLevel</th>\n      <th>Ethnicity</th>\n      <th>YearsEmployed</th>\n      <th>PriorDefault</th>\n      <th>Employed</th>\n      <th>CreditScore</th>\n      <th>DriversLicense</th>\n      <th>Citizen</th>\n      <th>ZipCode</th>\n      <th>Income</th>\n      <th>Approved</th>\n    </tr>\n  </thead>\n  <tbody>\n    <tr>\n      <th>0</th>\n      <td>1</td>\n      <td>?</td>\n      <td>40.83</td>\n      <td>3.500</td>\n      <td>u</td>\n      <td>g</td>\n      <td>i</td>\n      <td>bb</td>\n      <td>0.500</td>\n      <td>f</td>\n      <td>f</td>\n      <td>0</td>\n      <td>f</td>\n      <td>s</td>\n      <td>1160</td>\n      <td>0</td>\n      <td>-</td>\n    </tr>\n    <tr>\n      <th>1</th>\n      <td>2</td>\n      <td>?</td>\n      <td>32.25</td>\n      <td>1.500</td>\n      <td>u</td>\n      <td>g</td>\n      <td>c</td>\n      <td>v</td>\n      <td>0.250</td>\n      <td>f</td>\n      <td>f</td>\n      <td>0</td>\n      <td>t</td>\n      <td>g</td>\n      <td>372</td>\n      <td>122</td>\n      <td>-</td>\n    </tr>\n    <tr>\n      <th>2</th>\n      <td>3</td>\n      <td>?</td>\n      <td>28.17</td>\n      <td>0.585</td>\n      <td>u</td>\n      <td>g</td>\n      <td>aa</td>\n      <td>v</td>\n      <td>0.040</td>\n      <td>f</td>\n      <td>f</td>\n      <td>0</td>\n      <td>f</td>\n      <td>g</td>\n      <td>260</td>\n      <td>1004</td>\n      <td>-</td>\n    </tr>\n    <tr>\n      <th>3</th>\n      <td>4</td>\n      <td>?</td>\n      <td>29.75</td>\n      <td>0.665</td>\n      <td>u</td>\n      <td>g</td>\n      <td>w</td>\n      <td>v</td>\n      <td>0.250</td>\n      <td>f</td>\n      <td>f</td>\n      <td>0</td>\n      <td>t</td>\n      <td>g</td>\n      <td>300</td>\n      <td>0</td>\n      <td>-</td>\n    </tr>\n    <tr>\n      <th>4</th>\n      <td>5</td>\n      <td>?</td>\n      <td>26.5</td>\n      <td>2.710</td>\n      <td>y</td>\n      <td>p</td>\n      <td>?</td>\n      <td>?</td>\n      <td>0.085</td>\n      <td>f</td>\n      <td>f</td>\n      <td>0</td>\n      <td>f</td>\n      <td>s</td>\n      <td>80</td>\n      <td>0</td>\n      <td>-</td>\n    </tr>\n  </tbody>\n</table>\n</div>",
            "text/plain": "   Key Male    Age   Debt Married BankCustomer EducationLevel Ethnicity  \\\n0    1    ?  40.83  3.500       u            g              i        bb   \n1    2    ?  32.25  1.500       u            g              c         v   \n2    3    ?  28.17  0.585       u            g             aa         v   \n3    4    ?  29.75  0.665       u            g              w         v   \n4    5    ?   26.5  2.710       y            p              ?         ?   \n\n   YearsEmployed PriorDefault Employed  CreditScore DriversLicense Citizen  \\\n0          0.500            f        f            0              f       s   \n1          0.250            f        f            0              t       g   \n2          0.040            f        f            0              f       g   \n3          0.250            f        f            0              t       g   \n4          0.085            f        f            0              f       s   \n\n  ZipCode  Income Approved  \n0    1160       0        -  \n1     372     122        -  \n2     260    1004        -  \n3     300       0        -  \n4      80       0        -  "
          },
          "metadata": {}
        }
      ]
    },
    {
      "metadata": {
        "trusted": true
      },
      "cell_type": "code",
      "source": "#Replacing all ? as NaN and dropping all null values in train dataset.\n#In test dataset, missing values filled with the most frequently occuring values in respective column.\ndf2 = df2.replace('?',np.nan)\ndf2['Male'] = df2['Male'].fillna(df2['Male'].mode().iloc[0])\ndf2.replace('?',np.nan).isnull().sum()\ndf1.head()\ndf1.fillna(df1.mean(), inplace=True)\ndf1.replace('?',np.nan,inplace=True)\n#df2.replace('?','a',inplace=True)\ndf1.dropna(inplace = True)\ndf1[\"Age\"] = pd.to_numeric(df1[\"Age\"])\n#df_final = df.fillna(df.mean())\ndf1.shape",
      "execution_count": 35,
      "outputs": [
        {
          "output_type": "execute_result",
          "execution_count": 35,
          "data": {
            "text/plain": "(554, 17)"
          },
          "metadata": {}
        }
      ]
    },
    {
      "metadata": {},
      "cell_type": "markdown",
      "source": "<h2>Exploratory Data Analysis"
    },
    {
      "metadata": {
        "trusted": true
      },
      "cell_type": "code",
      "source": "#Analysis of effect of various parameters on output\nf, axes = plt.subplots(1, 2,figsize = (15,5))\nsns.boxplot(x = df1['Approved'],y = df1['YearsEmployed'], ax = axes[0])\nsns.boxplot(x = df1['Approved'],y = df1['Age'], ax = axes[1])\nsns.despine(left = True, bottom = True)\naxes[0].set(xlabel = 'Approved', ylabel = 'YearsEmployed')\naxes[0].yaxis.tick_left()\naxes[1].yaxis.set_label_position(\"right\")\naxes[1].yaxis.tick_right()\naxes[1].set(xlabel = 'Approved', ylabel = 'Age')\n",
      "execution_count": 36,
      "outputs": [
        {
          "output_type": "execute_result",
          "execution_count": 36,
          "data": {
            "text/plain": "[Text(0, 0.5, 'Age'), Text(0.5, 0, 'Approved')]"
          },
          "metadata": {}
        },
        {
          "output_type": "display_data",
          "data": {
            "image/png": "[encoded data removed]",
            "text/plain": "<Figure size 1080x360 with 2 Axes>"
          },
          "metadata": {
            "needs_background": "light"
          }
        }
      ]
    },
    {
      "metadata": {},
      "cell_type": "markdown",
      "source": "<h4>The first Graph shows that there is a higher chance of approval as the years in employment increase and the age increases"
    },
    {
      "metadata": {
        "trusted": true
      },
      "cell_type": "code",
      "source": "f, axes = plt.subplots(1, 2,figsize = (15,5))\ny = df1[df1['Approved']=='-'].groupby(['Married'])['Key'].agg(np.size).values\nx = df1[df1['Approved']=='-'].groupby(['Married'])['Key'].agg(np.size).index\nsns.barplot(x=x, y=y, data=df1, ax=axes[0])\ny = df1[df1['Approved']=='+'].groupby(['EducationLevel'])['Key'].agg(np.size).values\nx = df1[df1['Approved']=='+'].groupby(['EducationLevel'])['Key'].agg(np.size).index\nsns.barplot(x=x, y=y, data=df1, ax = axes[1])\nprint(df1['EducationLevel'].value_counts())\nprint(df1['Married'].value_counts())\n\n\n###TODO : SHow binning  ka ek graph",
      "execution_count": 37,
      "outputs": [
        {
          "output_type": "stream",
          "text": "c     115\nq      62\nw      50\ni      49\naa     48\nff     46\nk      42\nx      31\nm      30\ncc     28\ne      21\nd      20\nj      10\nr       2\nName: EducationLevel, dtype: int64\nu    414\ny    138\nl      2\nName: Married, dtype: int64\n",
          "name": "stdout"
        },
        {
          "output_type": "display_data",
          "data": {
            "image/png": "[encoded data removed]",
            "text/plain": "<Figure size 1080x360 with 2 Axes>"
          },
          "metadata": {
            "needs_background": "light"
          }
        }
      ]
    },
    {
      "metadata": {
        "trusted": true
      },
      "cell_type": "code",
      "source": "y = df1[df1['Approved']=='-'].groupby(['PriorDefault'])['Key'].agg(np.size).values\nx = df1[df1['Approved']=='-'].groupby(['PriorDefault'])['Key'].agg(np.size).index\nsns.barplot(x=x, y=y, data=df1)\n",
      "execution_count": 38,
      "outputs": [
        {
          "output_type": "execute_result",
          "execution_count": 38,
          "data": {
            "text/plain": "<matplotlib.axes._subplots.AxesSubplot at 0x7fee31381278>"
          },
          "metadata": {}
        },
        {
          "output_type": "display_data",
          "data": {
            "image/png": "[encoded data removed]",
            "text/plain": "<Figure size 432x288 with 1 Axes>"
          },
          "metadata": {
            "needs_background": "light"
          }
        }
      ]
    },
    {
      "metadata": {
        "trusted": true
      },
      "cell_type": "code",
      "source": "#Extracting the useful features\nfeatures = ['Age','Debt','Married','EducationLevel','Ethnicity', 'YearsEmployed', 'PriorDefault', 'Employed', 'CreditScore', 'DriversLicense','Citizen','Income']",
      "execution_count": 39,
      "outputs": []
    },
    {
      "metadata": {
        "trusted": true
      },
      "cell_type": "code",
      "source": "X1 = df1[features]\nX2 = df2[features]",
      "execution_count": 40,
      "outputs": []
    },
    {
      "metadata": {
        "trusted": true
      },
      "cell_type": "code",
      "source": "#Merging Train and test datasets for label encoding, to ensure both get encoded the same way.\nX = X1.append(X2,sort=False)",
      "execution_count": 41,
      "outputs": []
    },
    {
      "metadata": {
        "trusted": true
      },
      "cell_type": "code",
      "source": "#Converting age to float from string \nX = X.astype({'Age':'float64'})",
      "execution_count": 42,
      "outputs": []
    },
    {
      "metadata": {},
      "cell_type": "markdown",
      "source": "<h3>Age Binning"
    },
    {
      "metadata": {
        "trusted": true
      },
      "cell_type": "code",
      "source": "#To find minimum and maximum limits for age binning\nprint(X['Age'].min(), X['Age'].max())",
      "execution_count": 43,
      "outputs": [
        {
          "output_type": "stream",
          "text": "13.75 76.75\n",
          "name": "stdout"
        }
      ]
    },
    {
      "metadata": {
        "trusted": true,
        "scrolled": true
      },
      "cell_type": "code",
      "source": "# Converting Age to categorical feature\nbins = [10,15,20,25,30,35,40,45,50,55,60,65,70,75,80]\nlabels = [1,2,3,4,5,6,7,8,9,10,11,12,13,14]\nX['ageBinned'] = pd.cut(X['Age'], bins=bins, labels=labels)\nX.head()",
      "execution_count": 44,
      "outputs": [
        {
          "output_type": "execute_result",
          "execution_count": 44,
          "data": {
            "text/html": "<div>\n<style scoped>\n    .dataframe tbody tr th:only-of-type {\n        vertical-align: middle;\n    }\n\n    .dataframe tbody tr th {\n        vertical-align: top;\n    }\n\n    .dataframe thead th {\n        text-align: right;\n    }\n</style>\n<table border=\"1\" class=\"dataframe\">\n  <thead>\n    <tr style=\"text-align: right;\">\n      <th></th>\n      <th>Age</th>\n      <th>Debt</th>\n      <th>Married</th>\n      <th>EducationLevel</th>\n      <th>Ethnicity</th>\n      <th>YearsEmployed</th>\n      <th>PriorDefault</th>\n      <th>Employed</th>\n      <th>CreditScore</th>\n      <th>DriversLicense</th>\n      <th>Citizen</th>\n      <th>Income</th>\n      <th>ageBinned</th>\n    </tr>\n  </thead>\n  <tbody>\n    <tr>\n      <th>8</th>\n      <td>38.58</td>\n      <td>5.000</td>\n      <td>u</td>\n      <td>cc</td>\n      <td>v</td>\n      <td>13.500</td>\n      <td>t</td>\n      <td>f</td>\n      <td>0</td>\n      <td>t</td>\n      <td>g</td>\n      <td>0</td>\n      <td>6</td>\n    </tr>\n    <tr>\n      <th>9</th>\n      <td>19.17</td>\n      <td>0.585</td>\n      <td>y</td>\n      <td>aa</td>\n      <td>v</td>\n      <td>0.585</td>\n      <td>t</td>\n      <td>f</td>\n      <td>0</td>\n      <td>t</td>\n      <td>g</td>\n      <td>0</td>\n      <td>2</td>\n    </tr>\n    <tr>\n      <th>10</th>\n      <td>27.67</td>\n      <td>1.500</td>\n      <td>u</td>\n      <td>m</td>\n      <td>v</td>\n      <td>2.000</td>\n      <td>t</td>\n      <td>f</td>\n      <td>0</td>\n      <td>f</td>\n      <td>s</td>\n      <td>0</td>\n      <td>4</td>\n    </tr>\n    <tr>\n      <th>12</th>\n      <td>49.00</td>\n      <td>1.500</td>\n      <td>u</td>\n      <td>j</td>\n      <td>j</td>\n      <td>0.000</td>\n      <td>t</td>\n      <td>f</td>\n      <td>0</td>\n      <td>t</td>\n      <td>g</td>\n      <td>27</td>\n      <td>8</td>\n    </tr>\n    <tr>\n      <th>13</th>\n      <td>28.58</td>\n      <td>3.540</td>\n      <td>u</td>\n      <td>i</td>\n      <td>bb</td>\n      <td>0.500</td>\n      <td>t</td>\n      <td>f</td>\n      <td>0</td>\n      <td>t</td>\n      <td>g</td>\n      <td>0</td>\n      <td>4</td>\n    </tr>\n  </tbody>\n</table>\n</div>",
            "text/plain": "      Age   Debt Married EducationLevel Ethnicity  YearsEmployed PriorDefault  \\\n8   38.58  5.000       u             cc         v         13.500            t   \n9   19.17  0.585       y             aa         v          0.585            t   \n10  27.67  1.500       u              m         v          2.000            t   \n12  49.00  1.500       u              j         j          0.000            t   \n13  28.58  3.540       u              i        bb          0.500            t   \n\n   Employed  CreditScore DriversLicense Citizen  Income ageBinned  \n8         f            0              t       g       0         6  \n9         f            0              t       g       0         2  \n10        f            0              f       s       0         4  \n12        f            0              t       g      27         8  \n13        f            0              t       g       0         4  "
          },
          "metadata": {}
        }
      ]
    },
    {
      "metadata": {},
      "cell_type": "markdown",
      "source": "<h3>Encoding Categorical Variables"
    },
    {
      "metadata": {
        "trusted": true
      },
      "cell_type": "code",
      "source": "from sklearn.preprocessing import LabelEncoder\nle = LabelEncoder()",
      "execution_count": 45,
      "outputs": []
    },
    {
      "metadata": {
        "trusted": true
      },
      "cell_type": "code",
      "source": "X.select_dtypes(exclude=['float64','int']).head()",
      "execution_count": 46,
      "outputs": [
        {
          "output_type": "execute_result",
          "execution_count": 46,
          "data": {
            "text/html": "<div>\n<style scoped>\n    .dataframe tbody tr th:only-of-type {\n        vertical-align: middle;\n    }\n\n    .dataframe tbody tr th {\n        vertical-align: top;\n    }\n\n    .dataframe thead th {\n        text-align: right;\n    }\n</style>\n<table border=\"1\" class=\"dataframe\">\n  <thead>\n    <tr style=\"text-align: right;\">\n      <th></th>\n      <th>Married</th>\n      <th>EducationLevel</th>\n      <th>Ethnicity</th>\n      <th>PriorDefault</th>\n      <th>Employed</th>\n      <th>DriversLicense</th>\n      <th>Citizen</th>\n      <th>ageBinned</th>\n    </tr>\n  </thead>\n  <tbody>\n    <tr>\n      <th>8</th>\n      <td>u</td>\n      <td>cc</td>\n      <td>v</td>\n      <td>t</td>\n      <td>f</td>\n      <td>t</td>\n      <td>g</td>\n      <td>6</td>\n    </tr>\n    <tr>\n      <th>9</th>\n      <td>y</td>\n      <td>aa</td>\n      <td>v</td>\n      <td>t</td>\n      <td>f</td>\n      <td>t</td>\n      <td>g</td>\n      <td>2</td>\n    </tr>\n    <tr>\n      <th>10</th>\n      <td>u</td>\n      <td>m</td>\n      <td>v</td>\n      <td>t</td>\n      <td>f</td>\n      <td>f</td>\n      <td>s</td>\n      <td>4</td>\n    </tr>\n    <tr>\n      <th>12</th>\n      <td>u</td>\n      <td>j</td>\n      <td>j</td>\n      <td>t</td>\n      <td>f</td>\n      <td>t</td>\n      <td>g</td>\n      <td>8</td>\n    </tr>\n    <tr>\n      <th>13</th>\n      <td>u</td>\n      <td>i</td>\n      <td>bb</td>\n      <td>t</td>\n      <td>f</td>\n      <td>t</td>\n      <td>g</td>\n      <td>4</td>\n    </tr>\n  </tbody>\n</table>\n</div>",
            "text/plain": "   Married EducationLevel Ethnicity PriorDefault Employed DriversLicense  \\\n8        u             cc         v            t        f              t   \n9        y             aa         v            t        f              t   \n10       u              m         v            t        f              f   \n12       u              j         j            t        f              t   \n13       u              i        bb            t        f              t   \n\n   Citizen ageBinned  \n8        g         6  \n9        g         2  \n10       s         4  \n12       g         8  \n13       g         4  "
          },
          "metadata": {}
        }
      ]
    },
    {
      "metadata": {
        "trusted": true
      },
      "cell_type": "code",
      "source": "catindex = [X.columns.get_loc(col) for col in (X.select_dtypes(include=['object'],exclude=['float']))]\nfor i in catindex:\n    X.iloc[:,i] = le.fit_transform(X.iloc[:,i])\nX = X.drop(['Age'], axis = 1) ",
      "execution_count": 47,
      "outputs": []
    },
    {
      "metadata": {
        "trusted": true
      },
      "cell_type": "code",
      "source": "#Now Seperating back into train and test respectively\nX_train = X[0:(X1.shape[0])]\nX_test = X[X1.shape[0]:]\nX_train.head()",
      "execution_count": 48,
      "outputs": [
        {
          "output_type": "execute_result",
          "execution_count": 48,
          "data": {
            "text/html": "<div>\n<style scoped>\n    .dataframe tbody tr th:only-of-type {\n        vertical-align: middle;\n    }\n\n    .dataframe tbody tr th {\n        vertical-align: top;\n    }\n\n    .dataframe thead th {\n        text-align: right;\n    }\n</style>\n<table border=\"1\" class=\"dataframe\">\n  <thead>\n    <tr style=\"text-align: right;\">\n      <th></th>\n      <th>Debt</th>\n      <th>Married</th>\n      <th>EducationLevel</th>\n      <th>Ethnicity</th>\n      <th>YearsEmployed</th>\n      <th>PriorDefault</th>\n      <th>Employed</th>\n      <th>CreditScore</th>\n      <th>DriversLicense</th>\n      <th>Citizen</th>\n      <th>Income</th>\n      <th>ageBinned</th>\n    </tr>\n  </thead>\n  <tbody>\n    <tr>\n      <th>8</th>\n      <td>5.000</td>\n      <td>1</td>\n      <td>2</td>\n      <td>7</td>\n      <td>13.500</td>\n      <td>1</td>\n      <td>0</td>\n      <td>0</td>\n      <td>1</td>\n      <td>0</td>\n      <td>0</td>\n      <td>6</td>\n    </tr>\n    <tr>\n      <th>9</th>\n      <td>0.585</td>\n      <td>2</td>\n      <td>0</td>\n      <td>7</td>\n      <td>0.585</td>\n      <td>1</td>\n      <td>0</td>\n      <td>0</td>\n      <td>1</td>\n      <td>0</td>\n      <td>0</td>\n      <td>2</td>\n    </tr>\n    <tr>\n      <th>10</th>\n      <td>1.500</td>\n      <td>1</td>\n      <td>9</td>\n      <td>7</td>\n      <td>2.000</td>\n      <td>1</td>\n      <td>0</td>\n      <td>0</td>\n      <td>0</td>\n      <td>2</td>\n      <td>0</td>\n      <td>4</td>\n    </tr>\n    <tr>\n      <th>12</th>\n      <td>1.500</td>\n      <td>1</td>\n      <td>7</td>\n      <td>4</td>\n      <td>0.000</td>\n      <td>1</td>\n      <td>0</td>\n      <td>0</td>\n      <td>1</td>\n      <td>0</td>\n      <td>27</td>\n      <td>8</td>\n    </tr>\n    <tr>\n      <th>13</th>\n      <td>3.540</td>\n      <td>1</td>\n      <td>6</td>\n      <td>0</td>\n      <td>0.500</td>\n      <td>1</td>\n      <td>0</td>\n      <td>0</td>\n      <td>1</td>\n      <td>0</td>\n      <td>0</td>\n      <td>4</td>\n    </tr>\n  </tbody>\n</table>\n</div>",
            "text/plain": "     Debt  Married  EducationLevel  Ethnicity  YearsEmployed  PriorDefault  \\\n8   5.000        1               2          7         13.500             1   \n9   0.585        2               0          7          0.585             1   \n10  1.500        1               9          7          2.000             1   \n12  1.500        1               7          4          0.000             1   \n13  3.540        1               6          0          0.500             1   \n\n    Employed  CreditScore  DriversLicense  Citizen  Income ageBinned  \n8          0            0               1        0       0         6  \n9          0            0               1        0       0         2  \n10         0            0               0        2       0         4  \n12         0            0               1        0      27         8  \n13         0            0               1        0       0         4  "
          },
          "metadata": {}
        }
      ]
    },
    {
      "metadata": {
        "trusted": true
      },
      "cell_type": "code",
      "source": "y_train = df1['Approved']\ny_train.head()",
      "execution_count": 49,
      "outputs": [
        {
          "output_type": "execute_result",
          "execution_count": 49,
          "data": {
            "text/plain": "8     -\n9     -\n10    -\n12    -\n13    -\nName: Approved, dtype: object"
          },
          "metadata": {}
        }
      ]
    },
    {
      "metadata": {
        "trusted": true
      },
      "cell_type": "code",
      "source": "y_train = le.fit_transform(y_train)",
      "execution_count": 50,
      "outputs": []
    },
    {
      "metadata": {},
      "cell_type": "markdown",
      "source": "<h1>Logistic Regression"
    },
    {
      "metadata": {
        "trusted": true
      },
      "cell_type": "code",
      "source": "# Logistic regression and K-fold validation\n\nfrom sklearn.linear_model import LogisticRegression\nfrom sklearn.model_selection import KFold,cross_val_score\n\nlogreg = LogisticRegression()\nscores = cross_val_score(logreg, X_train, y_train, cv=10, scoring='accuracy')\nprint(scores.mean())\nlogreg.fit(X_train,y_train)\npredictions = logreg.predict(X_test)\n",
      "execution_count": 51,
      "outputs": [
        {
          "output_type": "stream",
          "text": "0.8464832535885167\n",
          "name": "stdout"
        }
      ]
    },
    {
      "metadata": {
        "trusted": true
      },
      "cell_type": "code",
      "source": "# This is a function to convert encoded variables of the approved column back to original categorical data\n\ndef symb(a):\n    if a==0:\n        return '+'\n    return '-'",
      "execution_count": 52,
      "outputs": []
    },
    {
      "metadata": {
        "trusted": true
      },
      "cell_type": "code",
      "source": "# Preparing the dataframe for submission\n\ny_test = predictions\ntestdf = pd.DataFrame()\ny_test = [symb(a) for a in y_test]",
      "execution_count": 53,
      "outputs": []
    },
    {
      "metadata": {
        "trusted": true
      },
      "cell_type": "code",
      "source": "testdf['Key'] = df2['Key']\ntestdf['Approved'] = y_test\ntestdf.head()",
      "execution_count": 54,
      "outputs": [
        {
          "output_type": "execute_result",
          "execution_count": 54,
          "data": {
            "text/html": "<div>\n<style scoped>\n    .dataframe tbody tr th:only-of-type {\n        vertical-align: middle;\n    }\n\n    .dataframe tbody tr th {\n        vertical-align: top;\n    }\n\n    .dataframe thead th {\n        text-align: right;\n    }\n</style>\n<table border=\"1\" class=\"dataframe\">\n  <thead>\n    <tr style=\"text-align: right;\">\n      <th></th>\n      <th>Key</th>\n      <th>Approved</th>\n    </tr>\n  </thead>\n  <tbody>\n    <tr>\n      <th>0</th>\n      <td>1</td>\n      <td>-</td>\n    </tr>\n    <tr>\n      <th>1</th>\n      <td>2</td>\n      <td>-</td>\n    </tr>\n    <tr>\n      <th>2</th>\n      <td>3</td>\n      <td>-</td>\n    </tr>\n    <tr>\n      <th>3</th>\n      <td>4</td>\n      <td>-</td>\n    </tr>\n    <tr>\n      <th>4</th>\n      <td>5</td>\n      <td>-</td>\n    </tr>\n  </tbody>\n</table>\n</div>",
            "text/plain": "   Key Approved\n0    1        -\n1    2        -\n2    3        -\n3    4        -\n4    5        -"
          },
          "metadata": {}
        }
      ]
    },
    {
      "metadata": {
        "trusted": true
      },
      "cell_type": "code",
      "source": "testdf.to_csv('solution.csv',index=False)",
      "execution_count": 55,
      "outputs": []
    },
    {
      "metadata": {},
      "cell_type": "markdown",
      "source": "<h3>To test with unknown sample"
    },
    {
      "metadata": {
        "trusted": true
      },
      "cell_type": "code",
      "source": "#this is the correct answers of X_test\nansdf = pd.DataFrame()\nanswer = ['-','-','-','-','-','-','-','-','-','-','-','-','+','-','-','-','-','-','-','-','-','-','-','-','-','+','+','+','+','+','+','+','+','+','+','+','+','+','+','+','+','+','+','+','+','+','+','+','+','+','+','+','+','+','+','+','+','+','+','+','+','+','+','+','+','+','+','+','+','+','+','+','+','+','+','+','+','+','+','+','+','+','+','+','+','+','+','+','+','+','+','+','+','+','+','+','+','+','+','+',]\nlen(answer)\n#answer = pd.DataFrame(answer)\nansdf['Approved'] = answer\nprint(ansdf.head())\nansdf['Approved'] = ansdf['Approved'].map({'+': 0, '-': 1})\nansdf",
      "execution_count": 57,
      "outputs": [
        {
          "output_type": "stream",
          "text": "  Approved\n0        -\n1        -\n2        -\n3        -\n4        -\n",
          "name": "stdout"
        },
        {
          "output_type": "execute_result",
          "execution_count": 57,
          "data": {
            "text/html": "<div>\n<style scoped>\n    .dataframe tbody tr th:only-of-type {\n        vertical-align: middle;\n    }\n\n    .dataframe tbody tr th {\n        vertical-align: top;\n    }\n\n    .dataframe thead th {\n        text-align: right;\n    }\n</style>\n<table border=\"1\" class=\"dataframe\">\n  <thead>\n    <tr style=\"text-align: right;\">\n      <th></th>\n      <th>Approved</th>\n    </tr>\n  </thead>\n  <tbody>\n    <tr>\n      <th>0</th>\n      <td>1</td>\n    </tr>\n    <tr>\n      <th>1</th>\n      <td>1</td>\n    </tr>\n    <tr>\n      <th>2</th>\n      <td>1</td>\n    </tr>\n    <tr>\n      <th>3</th>\n      <td>1</td>\n    </tr>\n    <tr>\n      <th>4</th>\n      <td>1</td>\n    </tr>\n    <tr>\n      <th>5</th>\n      <td>1</td>\n    </tr>\n    <tr>\n      <th>6</th>\n      <td>1</td>\n    </tr>\n    <tr>\n      <th>7</th>\n      <td>1</td>\n    </tr>\n    <tr>\n      <th>8</th>\n      <td>1</td>\n    </tr>\n    <tr>\n      <th>9</th>\n      <td>1</td>\n    </tr>\n    <tr>\n      <th>10</th>\n      <td>1</td>\n    </tr>\n    <tr>\n      <th>11</th>\n      <td>1</td>\n    </tr>\n    <tr>\n      <th>12</th>\n      <td>0</td>\n    </tr>\n    <tr>\n      <th>13</th>\n      <td>1</td>\n    </tr>\n    <tr>\n      <th>14</th>\n      <td>1</td>\n    </tr>\n    <tr>\n      <th>15</th>\n      <td>1</td>\n    </tr>\n    <tr>\n      <th>16</th>\n      <td>1</td>\n    </tr>\n    <tr>\n      <th>17</th>\n      <td>1</td>\n    </tr>\n    <tr>\n      <th>18</th>\n      <td>1</td>\n    </tr>\n    <tr>\n      <th>19</th>\n      <td>1</td>\n    </tr>\n    <tr>\n      <th>20</th>\n      <td>1</td>\n    </tr>\n    <tr>\n      <th>21</th>\n      <td>1</td>\n    </tr>\n    <tr>\n      <th>22</th>\n      <td>1</td>\n    </tr>\n    <tr>\n      <th>23</th>\n      <td>1</td>\n    </tr>\n    <tr>\n      <th>24</th>\n      <td>1</td>\n    </tr>\n    <tr>\n      <th>25</th>\n      <td>0</td>\n    </tr>\n    <tr>\n      <th>26</th>\n      <td>0</td>\n    </tr>\n    <tr>\n      <th>27</th>\n      <td>0</td>\n    </tr>\n    <tr>\n      <th>28</th>\n      <td>0</td>\n    </tr>\n    <tr>\n      <th>29</th>\n      <td>0</td>\n    </tr>\n    <tr>\n      <th>...</th>\n      <td>...</td>\n    </tr>\n    <tr>\n      <th>70</th>\n      <td>0</td>\n    </tr>\n    <tr>\n      <th>71</th>\n      <td>0</td>\n    </tr>\n    <tr>\n      <th>72</th>\n      <td>0</td>\n    </tr>\n    <tr>\n      <th>73</th>\n      <td>0</td>\n    </tr>\n    <tr>\n      <th>74</th>\n      <td>0</td>\n    </tr>\n    <tr>\n      <th>75</th>\n      <td>0</td>\n    </tr>\n    <tr>\n      <th>76</th>\n      <td>0</td>\n    </tr>\n    <tr>\n      <th>77</th>\n      <td>0</td>\n    </tr>\n    <tr>\n      <th>78</th>\n      <td>0</td>\n    </tr>\n    <tr>\n      <th>79</th>\n      <td>0</td>\n    </tr>\n    <tr>\n      <th>80</th>\n      <td>0</td>\n    </tr>\n    <tr>\n      <th>81</th>\n      <td>0</td>\n    </tr>\n    <tr>\n      <th>82</th>\n      <td>0</td>\n    </tr>\n    <tr>\n      <th>83</th>\n      <td>0</td>\n    </tr>\n    <tr>\n      <th>84</th>\n      <td>0</td>\n    </tr>\n    <tr>\n      <th>85</th>\n      <td>0</td>\n    </tr>\n    <tr>\n      <th>86</th>\n      <td>0</td>\n    </tr>\n    <tr>\n      <th>87</th>\n      <td>0</td>\n    </tr>\n    <tr>\n      <th>88</th>\n      <td>0</td>\n    </tr>\n    <tr>\n      <th>89</th>\n      <td>0</td>\n    </tr>\n    <tr>\n      <th>90</th>\n      <td>0</td>\n    </tr>\n    <tr>\n      <th>91</th>\n      <td>0</td>\n    </tr>\n    <tr>\n      <th>92</th>\n      <td>0</td>\n    </tr>\n    <tr>\n      <th>93</th>\n      <td>0</td>\n    </tr>\n    <tr>\n      <th>94</th>\n      <td>0</td>\n    </tr>\n    <tr>\n      <th>95</th>\n      <td>0</td>\n    </tr>\n    <tr>\n      <th>96</th>\n      <td>0</td>\n    </tr>\n    <tr>\n      <th>97</th>\n      <td>0</td>\n    </tr>\n    <tr>\n      <th>98</th>\n      <td>0</td>\n    </tr>\n    <tr>\n      <th>99</th>\n      <td>0</td>\n    </tr>\n  </tbody>\n</table>\n<p>100 rows × 1 columns</p>\n</div>",
            "text/plain": "    Approved\n0          1\n1          1\n2          1\n3          1\n4          1\n5          1\n6          1\n7          1\n8          1\n9          1\n10         1\n11         1\n12         0\n13         1\n14         1\n15         1\n16         1\n17         1\n18         1\n19         1\n20         1\n21         1\n22         1\n23         1\n24         1\n25         0\n26         0\n27         0\n28         0\n29         0\n..       ...\n70         0\n71         0\n72         0\n73         0\n74         0\n75         0\n76         0\n77         0\n78         0\n79         0\n80         0\n81         0\n82         0\n83         0\n84         0\n85         0\n86         0\n87         0\n88         0\n89         0\n90         0\n91         0\n92         0\n93         0\n94         0\n95         0\n96         0\n97         0\n98         0\n99         0\n\n[100 rows x 1 columns]"
          },
          "metadata": {}
        }
      ]
    },
    {
      "metadata": {
        "trusted": true
      },
      "cell_type": "code",
      "source": "from sklearn.metrics import classification_report\npredictions = logreg.predict(X_test)\nprint(\"Classification Report\")\nprint(classification_report(ansdf['Approved'], predictions))\n",
      "execution_count": 58,
      "outputs": [
        {
          "output_type": "stream",
          "text": "Classification Report\n              precision    recall  f1-score   support\n\n           0       1.00      0.87      0.93        76\n           1       0.71      1.00      0.83        24\n\n   micro avg       0.90      0.90      0.90       100\n   macro avg       0.85      0.93      0.88       100\nweighted avg       0.93      0.90      0.91       100\n\n",
          "name": "stdout"
        }
      ]
    },
    {
      "metadata": {
        "trusted": true
      },
      "cell_type": "markdown",
      "source": "<h3>The above method gives a cross validation score of 84.6% and on unknown sample gives a f1-score of 0.88.\n"
    },
    {
      "metadata": {},
      "cell_type": "markdown",
      "source": "<h3> It can be further improved by imputing missing values, binning other features etc."
    },
    {
      "metadata": {
        "trusted": true
      },
      "cell_type": "code",
      "source": "",
      "execution_count": null,
      "outputs": []
    }
  ],
  "metadata": {
    "kernelspec": {
      "name": "python36",
      "display_name": "Python 3.6",
      "language": "python"
    },
    "language_info": {
      "mimetype": "text/x-python",
      "nbconvert_exporter": "python",
      "name": "python",
      "pygments_lexer": "ipython3",
      "version": "3.6.6",
      "file_extension": ".py",
      "codemirror_mode": {
        "version": 3,
        "name": "ipython"
      }
    }
  },
  "nbformat": 4,
  "nbformat_minor": 2
}